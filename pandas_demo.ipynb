{
 "cells": [
  {
   "cell_type": "code",
   "execution_count": 2,
   "metadata": {},
   "outputs": [],
   "source": [
    "import pandas as pd"
   ]
  },
  {
   "cell_type": "code",
   "execution_count": 3,
   "metadata": {},
   "outputs": [],
   "source": [
    "df = pd.read_csv('datasets/survey_results_public.csv') #read the csv file"
   ]
  },
  {
   "cell_type": "code",
   "execution_count": 16,
   "metadata": {},
   "outputs": [],
   "source": [
    "schema_df = pd.read_csv('datasets/survey_results_schema.csv')"
   ]
  },
  {
   "cell_type": "code",
   "execution_count": 22,
   "metadata": {},
   "outputs": [],
   "source": [
    "#to set index while reading\n",
    "df = pd.read_csv('datasets/survey_results_public.csv', index_col='Respondent') #indexing while reading\n",
    "schema_df = pd.read_csv('datasets/survey_results_schema.csv', index_col='Column')"
   ]
  },
  {
   "cell_type": "code",
   "execution_count": 29,
   "metadata": {
    "collapsed": true
   },
   "outputs": [
    {
     "data": {
      "text/html": [
       "<div>\n",
       "<style scoped>\n",
       "    .dataframe tbody tr th:only-of-type {\n",
       "        vertical-align: middle;\n",
       "    }\n",
       "\n",
       "    .dataframe tbody tr th {\n",
       "        vertical-align: top;\n",
       "    }\n",
       "\n",
       "    .dataframe thead th {\n",
       "        text-align: right;\n",
       "    }\n",
       "</style>\n",
       "<table border=\"1\" class=\"dataframe\">\n",
       "  <thead>\n",
       "    <tr style=\"text-align: right;\">\n",
       "      <th></th>\n",
       "      <th>MainBranch</th>\n",
       "      <th>Hobbyist</th>\n",
       "      <th>OpenSourcer</th>\n",
       "      <th>OpenSource</th>\n",
       "      <th>Employment</th>\n",
       "      <th>Country</th>\n",
       "      <th>Student</th>\n",
       "      <th>EdLevel</th>\n",
       "      <th>UndergradMajor</th>\n",
       "      <th>EduOther</th>\n",
       "      <th>...</th>\n",
       "      <th>WelcomeChange</th>\n",
       "      <th>SONewContent</th>\n",
       "      <th>Age</th>\n",
       "      <th>Gender</th>\n",
       "      <th>Trans</th>\n",
       "      <th>Sexuality</th>\n",
       "      <th>Ethnicity</th>\n",
       "      <th>Dependents</th>\n",
       "      <th>SurveyLength</th>\n",
       "      <th>SurveyEase</th>\n",
       "    </tr>\n",
       "    <tr>\n",
       "      <th>Respondent</th>\n",
       "      <th></th>\n",
       "      <th></th>\n",
       "      <th></th>\n",
       "      <th></th>\n",
       "      <th></th>\n",
       "      <th></th>\n",
       "      <th></th>\n",
       "      <th></th>\n",
       "      <th></th>\n",
       "      <th></th>\n",
       "      <th></th>\n",
       "      <th></th>\n",
       "      <th></th>\n",
       "      <th></th>\n",
       "      <th></th>\n",
       "      <th></th>\n",
       "      <th></th>\n",
       "      <th></th>\n",
       "      <th></th>\n",
       "      <th></th>\n",
       "      <th></th>\n",
       "    </tr>\n",
       "  </thead>\n",
       "  <tbody>\n",
       "    <tr>\n",
       "      <th>1</th>\n",
       "      <td>I am a student who is learning to code</td>\n",
       "      <td>Yes</td>\n",
       "      <td>Never</td>\n",
       "      <td>The quality of OSS and closed source software ...</td>\n",
       "      <td>Not employed, and not looking for work</td>\n",
       "      <td>United Kingdom</td>\n",
       "      <td>No</td>\n",
       "      <td>Primary/elementary school</td>\n",
       "      <td>NaN</td>\n",
       "      <td>Taught yourself a new language, framework, or ...</td>\n",
       "      <td>...</td>\n",
       "      <td>Just as welcome now as I felt last year</td>\n",
       "      <td>Tech articles written by other developers;Indu...</td>\n",
       "      <td>14.0</td>\n",
       "      <td>Man</td>\n",
       "      <td>No</td>\n",
       "      <td>Straight / Heterosexual</td>\n",
       "      <td>NaN</td>\n",
       "      <td>No</td>\n",
       "      <td>Appropriate in length</td>\n",
       "      <td>Neither easy nor difficult</td>\n",
       "    </tr>\n",
       "    <tr>\n",
       "      <th>2</th>\n",
       "      <td>I am a student who is learning to code</td>\n",
       "      <td>No</td>\n",
       "      <td>Less than once per year</td>\n",
       "      <td>The quality of OSS and closed source software ...</td>\n",
       "      <td>Not employed, but looking for work</td>\n",
       "      <td>Bosnia and Herzegovina</td>\n",
       "      <td>Yes, full-time</td>\n",
       "      <td>Secondary school (e.g. American high school, G...</td>\n",
       "      <td>NaN</td>\n",
       "      <td>Taken an online course in programming or softw...</td>\n",
       "      <td>...</td>\n",
       "      <td>Just as welcome now as I felt last year</td>\n",
       "      <td>Tech articles written by other developers;Indu...</td>\n",
       "      <td>19.0</td>\n",
       "      <td>Man</td>\n",
       "      <td>No</td>\n",
       "      <td>Straight / Heterosexual</td>\n",
       "      <td>NaN</td>\n",
       "      <td>No</td>\n",
       "      <td>Appropriate in length</td>\n",
       "      <td>Neither easy nor difficult</td>\n",
       "    </tr>\n",
       "  </tbody>\n",
       "</table>\n",
       "<p>2 rows × 84 columns</p>\n",
       "</div>"
      ],
      "text/plain": [
       "                                        MainBranch Hobbyist  \\\n",
       "Respondent                                                    \n",
       "1           I am a student who is learning to code      Yes   \n",
       "2           I am a student who is learning to code       No   \n",
       "\n",
       "                        OpenSourcer  \\\n",
       "Respondent                            \n",
       "1                             Never   \n",
       "2           Less than once per year   \n",
       "\n",
       "                                                   OpenSource  \\\n",
       "Respondent                                                      \n",
       "1           The quality of OSS and closed source software ...   \n",
       "2           The quality of OSS and closed source software ...   \n",
       "\n",
       "                                        Employment                 Country  \\\n",
       "Respondent                                                                   \n",
       "1           Not employed, and not looking for work          United Kingdom   \n",
       "2               Not employed, but looking for work  Bosnia and Herzegovina   \n",
       "\n",
       "                   Student                                            EdLevel  \\\n",
       "Respondent                                                                      \n",
       "1                       No                          Primary/elementary school   \n",
       "2           Yes, full-time  Secondary school (e.g. American high school, G...   \n",
       "\n",
       "           UndergradMajor                                           EduOther  \\\n",
       "Respondent                                                                     \n",
       "1                     NaN  Taught yourself a new language, framework, or ...   \n",
       "2                     NaN  Taken an online course in programming or softw...   \n",
       "\n",
       "            ...                            WelcomeChange  \\\n",
       "Respondent  ...                                            \n",
       "1           ...  Just as welcome now as I felt last year   \n",
       "2           ...  Just as welcome now as I felt last year   \n",
       "\n",
       "                                                 SONewContent   Age Gender  \\\n",
       "Respondent                                                                   \n",
       "1           Tech articles written by other developers;Indu...  14.0    Man   \n",
       "2           Tech articles written by other developers;Indu...  19.0    Man   \n",
       "\n",
       "           Trans                Sexuality Ethnicity Dependents  \\\n",
       "Respondent                                                       \n",
       "1             No  Straight / Heterosexual       NaN         No   \n",
       "2             No  Straight / Heterosexual       NaN         No   \n",
       "\n",
       "                     SurveyLength                  SurveyEase  \n",
       "Respondent                                                     \n",
       "1           Appropriate in length  Neither easy nor difficult  \n",
       "2           Appropriate in length  Neither easy nor difficult  \n",
       "\n",
       "[2 rows x 84 columns]"
      ]
     },
     "execution_count": 29,
     "metadata": {},
     "output_type": "execute_result"
    }
   ],
   "source": [
    "df.head(2) #print two rows from top"
   ]
  },
  {
   "cell_type": "code",
   "execution_count": 48,
   "metadata": {},
   "outputs": [
    {
     "data": {
      "text/plain": [
       "(88883, 84)"
      ]
     },
     "execution_count": 48,
     "metadata": {},
     "output_type": "execute_result"
    }
   ],
   "source": [
    "df.shape # rowsxcol"
   ]
  },
  {
   "cell_type": "code",
   "execution_count": 49,
   "metadata": {
    "collapsed": true
   },
   "outputs": [
    {
     "name": "stdout",
     "output_type": "stream",
     "text": [
      "<class 'pandas.core.frame.DataFrame'>\n",
      "Int64Index: 88883 entries, 1 to 88863\n",
      "Data columns (total 84 columns):\n",
      " #   Column                  Non-Null Count  Dtype  \n",
      "---  ------                  --------------  -----  \n",
      " 0   MainBranch              88331 non-null  object \n",
      " 1   Hobbyist                88883 non-null  object \n",
      " 2   OpenSourcer             88883 non-null  object \n",
      " 3   OpenSource              86842 non-null  object \n",
      " 4   Employment              87181 non-null  object \n",
      " 5   Country                 88751 non-null  object \n",
      " 6   Student                 87014 non-null  object \n",
      " 7   EdLevel                 86390 non-null  object \n",
      " 8   UndergradMajor          75614 non-null  object \n",
      " 9   EduOther                84260 non-null  object \n",
      " 10  OrgSize                 71791 non-null  object \n",
      " 11  DevType                 81335 non-null  object \n",
      " 12  YearsCode               87938 non-null  object \n",
      " 13  Age1stCode              87634 non-null  object \n",
      " 14  YearsCodePro            74331 non-null  object \n",
      " 15  CareerSat               72847 non-null  object \n",
      " 16  JobSat                  70988 non-null  object \n",
      " 17  MgrIdiot                61159 non-null  object \n",
      " 18  MgrMoney                61157 non-null  object \n",
      " 19  MgrWant                 61232 non-null  object \n",
      " 20  JobSeek                 80555 non-null  object \n",
      " 21  LastHireDate            79854 non-null  object \n",
      " 22  LastInt                 67155 non-null  object \n",
      " 23  FizzBuzz                71344 non-null  object \n",
      " 24  JobFactors              79371 non-null  object \n",
      " 25  ResumeUpdate            77877 non-null  object \n",
      " 26  CurrencySymbol          71392 non-null  object \n",
      " 27  CurrencyDesc            71392 non-null  object \n",
      " 28  CompTotal               55945 non-null  float64\n",
      " 29  CompFreq                63268 non-null  object \n",
      " 30  ConvertedComp           55823 non-null  float64\n",
      " 31  WorkWeekHrs             64503 non-null  float64\n",
      " 32  WorkPlan                68914 non-null  object \n",
      " 33  WorkChallenge           68141 non-null  object \n",
      " 34  WorkRemote              70284 non-null  object \n",
      " 35  WorkLoc                 70055 non-null  object \n",
      " 36  ImpSyn                  71779 non-null  object \n",
      " 37  CodeRev                 70390 non-null  object \n",
      " 38  CodeRevHrs              49790 non-null  float64\n",
      " 39  UnitTests               62668 non-null  object \n",
      " 40  PurchaseHow             61108 non-null  object \n",
      " 41  PurchaseWhat            62029 non-null  object \n",
      " 42  LanguageWorkedWith      87569 non-null  object \n",
      " 43  LanguageDesireNextYear  84088 non-null  object \n",
      " 44  DatabaseWorkedWith      76026 non-null  object \n",
      " 45  DatabaseDesireNextYear  69147 non-null  object \n",
      " 46  PlatformWorkedWith      80714 non-null  object \n",
      " 47  PlatformDesireNextYear  77443 non-null  object \n",
      " 48  WebFrameWorkedWith      65022 non-null  object \n",
      " 49  WebFrameDesireNextYear  62944 non-null  object \n",
      " 50  MiscTechWorkedWith      59586 non-null  object \n",
      " 51  MiscTechDesireNextYear  64511 non-null  object \n",
      " 52  DevEnviron              87317 non-null  object \n",
      " 53  OpSys                   87851 non-null  object \n",
      " 54  Containers              85366 non-null  object \n",
      " 55  BlockchainOrg           48175 non-null  object \n",
      " 56  BlockchainIs            60165 non-null  object \n",
      " 57  BetterLife              86269 non-null  object \n",
      " 58  ITperson                87141 non-null  object \n",
      " 59  OffOn                   86663 non-null  object \n",
      " 60  SocialMedia             84437 non-null  object \n",
      " 61  Extraversion            87305 non-null  object \n",
      " 62  ScreenName              80486 non-null  object \n",
      " 63  SOVisit1st              83877 non-null  object \n",
      " 64  SOVisitFreq             88263 non-null  object \n",
      " 65  SOVisitTo               88086 non-null  object \n",
      " 66  SOFindAnswer            87816 non-null  object \n",
      " 67  SOTimeSaved             86344 non-null  object \n",
      " 68  SOHowMuchTime           68378 non-null  object \n",
      " 69  SOAccount               87828 non-null  object \n",
      " 70  SOPartFreq              74692 non-null  object \n",
      " 71  SOJobs                  88066 non-null  object \n",
      " 72  EntTeams                87841 non-null  object \n",
      " 73  SOComm                  88131 non-null  object \n",
      " 74  WelcomeChange           85855 non-null  object \n",
      " 75  SONewContent            69560 non-null  object \n",
      " 76  Age                     79210 non-null  float64\n",
      " 77  Gender                  85406 non-null  object \n",
      " 78  Trans                   83607 non-null  object \n",
      " 79  Sexuality               76147 non-null  object \n",
      " 80  Ethnicity               76668 non-null  object \n",
      " 81  Dependents              83059 non-null  object \n",
      " 82  SurveyLength            86984 non-null  object \n",
      " 83  SurveyEase              87081 non-null  object \n",
      "dtypes: float64(5), object(79)\n",
      "memory usage: 57.6+ MB\n"
     ]
    }
   ],
   "source": [
    "df.info() #entrie details of about data"
   ]
  },
  {
   "cell_type": "code",
   "execution_count": null,
   "metadata": {},
   "outputs": [],
   "source": [
    "pd.set_option('display.max_columns', 85) #no. of columns to be displayed"
   ]
  },
  {
   "cell_type": "code",
   "execution_count": 6,
   "metadata": {
    "collapsed": true
   },
   "outputs": [
    {
     "data": {
      "text/plain": [
       "Index(['Respondent', 'MainBranch', 'Hobbyist', 'OpenSourcer', 'OpenSource',\n",
       "       'Employment', 'Country', 'Student', 'EdLevel', 'UndergradMajor',\n",
       "       'EduOther', 'OrgSize', 'DevType', 'YearsCode', 'Age1stCode',\n",
       "       'YearsCodePro', 'CareerSat', 'JobSat', 'MgrIdiot', 'MgrMoney',\n",
       "       'MgrWant', 'JobSeek', 'LastHireDate', 'LastInt', 'FizzBuzz',\n",
       "       'JobFactors', 'ResumeUpdate', 'CurrencySymbol', 'CurrencyDesc',\n",
       "       'CompTotal', 'CompFreq', 'ConvertedComp', 'WorkWeekHrs', 'WorkPlan',\n",
       "       'WorkChallenge', 'WorkRemote', 'WorkLoc', 'ImpSyn', 'CodeRev',\n",
       "       'CodeRevHrs', 'UnitTests', 'PurchaseHow', 'PurchaseWhat',\n",
       "       'LanguageWorkedWith', 'LanguageDesireNextYear', 'DatabaseWorkedWith',\n",
       "       'DatabaseDesireNextYear', 'PlatformWorkedWith',\n",
       "       'PlatformDesireNextYear', 'WebFrameWorkedWith',\n",
       "       'WebFrameDesireNextYear', 'MiscTechWorkedWith',\n",
       "       'MiscTechDesireNextYear', 'DevEnviron', 'OpSys', 'Containers',\n",
       "       'BlockchainOrg', 'BlockchainIs', 'BetterLife', 'ITperson', 'OffOn',\n",
       "       'SocialMedia', 'Extraversion', 'ScreenName', 'SOVisit1st',\n",
       "       'SOVisitFreq', 'SOVisitTo', 'SOFindAnswer', 'SOTimeSaved',\n",
       "       'SOHowMuchTime', 'SOAccount', 'SOPartFreq', 'SOJobs', 'EntTeams',\n",
       "       'SOComm', 'WelcomeChange', 'SONewContent', 'Age', 'Gender', 'Trans',\n",
       "       'Sexuality', 'Ethnicity', 'Dependents', 'SurveyLength', 'SurveyEase'],\n",
       "      dtype='object')"
      ]
     },
     "execution_count": 6,
     "metadata": {},
     "output_type": "execute_result"
    }
   ],
   "source": [
    "df.columns #information about only columns"
   ]
  },
  {
   "cell_type": "code",
   "execution_count": 8,
   "metadata": {
    "collapsed": true
   },
   "outputs": [
    {
     "data": {
      "text/plain": [
       "Yes    71257\n",
       "No     17626\n",
       "Name: Hobbyist, dtype: int64"
      ]
     },
     "execution_count": 8,
     "metadata": {},
     "output_type": "execute_result"
    }
   ],
   "source": [
    "df['Hobbyist'].value_counts() #count all disticnt values for a column name"
   ]
  },
  {
   "cell_type": "code",
   "execution_count": 11,
   "metadata": {
    "collapsed": true
   },
   "outputs": [
    {
     "data": {
      "text/plain": [
       "1     No\n",
       "2    Yes\n",
       "3     No\n",
       "Name: Hobbyist, dtype: object"
      ]
     },
     "execution_count": 11,
     "metadata": {},
     "output_type": "execute_result"
    }
   ],
   "source": [
    "df.loc[[1,2,3], 'Hobbyist'] #select the no. of rows for a given specific column only"
   ]
  },
  {
   "cell_type": "code",
   "execution_count": 12,
   "metadata": {
    "collapsed": true
   },
   "outputs": [
    {
     "data": {
      "text/html": [
       "<div>\n",
       "<style scoped>\n",
       "    .dataframe tbody tr th:only-of-type {\n",
       "        vertical-align: middle;\n",
       "    }\n",
       "\n",
       "    .dataframe tbody tr th {\n",
       "        vertical-align: top;\n",
       "    }\n",
       "\n",
       "    .dataframe thead th {\n",
       "        text-align: right;\n",
       "    }\n",
       "</style>\n",
       "<table border=\"1\" class=\"dataframe\">\n",
       "  <thead>\n",
       "    <tr style=\"text-align: right;\">\n",
       "      <th></th>\n",
       "      <th>Hobbyist</th>\n",
       "      <th>OpenSourcer</th>\n",
       "      <th>OpenSource</th>\n",
       "      <th>Employment</th>\n",
       "    </tr>\n",
       "  </thead>\n",
       "  <tbody>\n",
       "    <tr>\n",
       "      <th>1</th>\n",
       "      <td>No</td>\n",
       "      <td>Less than once per year</td>\n",
       "      <td>The quality of OSS and closed source software ...</td>\n",
       "      <td>Not employed, but looking for work</td>\n",
       "    </tr>\n",
       "    <tr>\n",
       "      <th>2</th>\n",
       "      <td>Yes</td>\n",
       "      <td>Never</td>\n",
       "      <td>The quality of OSS and closed source software ...</td>\n",
       "      <td>Employed full-time</td>\n",
       "    </tr>\n",
       "    <tr>\n",
       "      <th>3</th>\n",
       "      <td>No</td>\n",
       "      <td>Never</td>\n",
       "      <td>The quality of OSS and closed source software ...</td>\n",
       "      <td>Employed full-time</td>\n",
       "    </tr>\n",
       "  </tbody>\n",
       "</table>\n",
       "</div>"
      ],
      "text/plain": [
       "  Hobbyist              OpenSourcer  \\\n",
       "1       No  Less than once per year   \n",
       "2      Yes                    Never   \n",
       "3       No                    Never   \n",
       "\n",
       "                                          OpenSource  \\\n",
       "1  The quality of OSS and closed source software ...   \n",
       "2  The quality of OSS and closed source software ...   \n",
       "3  The quality of OSS and closed source software ...   \n",
       "\n",
       "                           Employment  \n",
       "1  Not employed, but looking for work  \n",
       "2                  Employed full-time  \n",
       "3                  Employed full-time  "
      ]
     },
     "execution_count": 12,
     "metadata": {},
     "output_type": "execute_result"
    }
   ],
   "source": [
    "df.loc[1:3, 'Hobbyist':'MgrIdiot'] #slicing, both inclusive"
   ]
  },
  {
   "cell_type": "code",
   "execution_count": 24,
   "metadata": {},
   "outputs": [
    {
     "data": {
      "text/plain": [
       "'How confident are you that your manager knows what they’re doing?'"
      ]
     },
     "execution_count": 24,
     "metadata": {},
     "output_type": "execute_result"
    }
   ],
   "source": [
    "schema_df.loc['MgrIdiot','QuestionText'] #using loc fetch the required data"
   ]
  },
  {
   "cell_type": "code",
   "execution_count": 26,
   "metadata": {
    "collapsed": true
   },
   "outputs": [
    {
     "data": {
      "text/html": [
       "<div>\n",
       "<style scoped>\n",
       "    .dataframe tbody tr th:only-of-type {\n",
       "        vertical-align: middle;\n",
       "    }\n",
       "\n",
       "    .dataframe tbody tr th {\n",
       "        vertical-align: top;\n",
       "    }\n",
       "\n",
       "    .dataframe thead th {\n",
       "        text-align: right;\n",
       "    }\n",
       "</style>\n",
       "<table border=\"1\" class=\"dataframe\">\n",
       "  <thead>\n",
       "    <tr style=\"text-align: right;\">\n",
       "      <th></th>\n",
       "      <th>QuestionText</th>\n",
       "    </tr>\n",
       "    <tr>\n",
       "      <th>Column</th>\n",
       "      <th></th>\n",
       "    </tr>\n",
       "  </thead>\n",
       "  <tbody>\n",
       "    <tr>\n",
       "      <th>YearsCodePro</th>\n",
       "      <td>How many years have you coded professionally (...</td>\n",
       "    </tr>\n",
       "    <tr>\n",
       "      <th>YearsCode</th>\n",
       "      <td>Including any education, how many years have y...</td>\n",
       "    </tr>\n",
       "    <tr>\n",
       "      <th>WorkWeekHrs</th>\n",
       "      <td>On average, how many hours per week do you work?</td>\n",
       "    </tr>\n",
       "    <tr>\n",
       "      <th>WorkRemote</th>\n",
       "      <td>How often do you work remotely?</td>\n",
       "    </tr>\n",
       "    <tr>\n",
       "      <th>WorkPlan</th>\n",
       "      <td>How structured or planned is your work?</td>\n",
       "    </tr>\n",
       "    <tr>\n",
       "      <th>...</th>\n",
       "      <td>...</td>\n",
       "    </tr>\n",
       "    <tr>\n",
       "      <th>BlockchainOrg</th>\n",
       "      <td>How is your organization thinking about or imp...</td>\n",
       "    </tr>\n",
       "    <tr>\n",
       "      <th>BlockchainIs</th>\n",
       "      <td>Blockchain / cryptocurrency technology is prim...</td>\n",
       "    </tr>\n",
       "    <tr>\n",
       "      <th>BetterLife</th>\n",
       "      <td>Do you think people born today will have a bet...</td>\n",
       "    </tr>\n",
       "    <tr>\n",
       "      <th>Age1stCode</th>\n",
       "      <td>At what age did you write your first line of c...</td>\n",
       "    </tr>\n",
       "    <tr>\n",
       "      <th>Age</th>\n",
       "      <td>What is your age (in years)? If you prefer not...</td>\n",
       "    </tr>\n",
       "  </tbody>\n",
       "</table>\n",
       "<p>85 rows × 1 columns</p>\n",
       "</div>"
      ],
      "text/plain": [
       "                                                    QuestionText\n",
       "Column                                                          \n",
       "YearsCodePro   How many years have you coded professionally (...\n",
       "YearsCode      Including any education, how many years have y...\n",
       "WorkWeekHrs     On average, how many hours per week do you work?\n",
       "WorkRemote                       How often do you work remotely?\n",
       "WorkPlan                 How structured or planned is your work?\n",
       "...                                                          ...\n",
       "BlockchainOrg  How is your organization thinking about or imp...\n",
       "BlockchainIs   Blockchain / cryptocurrency technology is prim...\n",
       "BetterLife     Do you think people born today will have a bet...\n",
       "Age1stCode     At what age did you write your first line of c...\n",
       "Age            What is your age (in years)? If you prefer not...\n",
       "\n",
       "[85 rows x 1 columns]"
      ]
     },
     "execution_count": 26,
     "metadata": {},
     "output_type": "execute_result"
    }
   ],
   "source": [
    "schema_df.sort_index(ascending=False) #sort the data"
   ]
  },
  {
   "cell_type": "code",
   "execution_count": 36,
   "metadata": {},
   "outputs": [],
   "source": [
    "countries = ['United States', 'India', 'Canada']"
   ]
  },
  {
   "cell_type": "code",
   "execution_count": 39,
   "metadata": {},
   "outputs": [],
   "source": [
    "high_salary = (df['ConvertedComp'] > 70000) & (df['Country'] == 'India') #for single country\n",
    "filt1 = (df['ConvertedComp'] > 70000) & (df['Country'].isin(countries)) #for the list of countries"
   ]
  },
  {
   "cell_type": "code",
   "execution_count": 40,
   "metadata": {
    "collapsed": true
   },
   "outputs": [
    {
     "data": {
      "text/html": [
       "<div>\n",
       "<style scoped>\n",
       "    .dataframe tbody tr th:only-of-type {\n",
       "        vertical-align: middle;\n",
       "    }\n",
       "\n",
       "    .dataframe tbody tr th {\n",
       "        vertical-align: top;\n",
       "    }\n",
       "\n",
       "    .dataframe thead th {\n",
       "        text-align: right;\n",
       "    }\n",
       "</style>\n",
       "<table border=\"1\" class=\"dataframe\">\n",
       "  <thead>\n",
       "    <tr style=\"text-align: right;\">\n",
       "      <th></th>\n",
       "      <th>ConvertedComp</th>\n",
       "      <th>Country</th>\n",
       "      <th>LanguageWorkedWith</th>\n",
       "    </tr>\n",
       "    <tr>\n",
       "      <th>Respondent</th>\n",
       "      <th></th>\n",
       "      <th></th>\n",
       "      <th></th>\n",
       "    </tr>\n",
       "  </thead>\n",
       "  <tbody>\n",
       "    <tr>\n",
       "      <th>6</th>\n",
       "      <td>366420.0</td>\n",
       "      <td>Canada</td>\n",
       "      <td>Java;R;SQL</td>\n",
       "    </tr>\n",
       "    <tr>\n",
       "      <th>13</th>\n",
       "      <td>90000.0</td>\n",
       "      <td>United States</td>\n",
       "      <td>Bash/Shell/PowerShell;HTML/CSS;JavaScript;PHP;...</td>\n",
       "    </tr>\n",
       "    <tr>\n",
       "      <th>22</th>\n",
       "      <td>103000.0</td>\n",
       "      <td>United States</td>\n",
       "      <td>Bash/Shell/PowerShell;C++;HTML/CSS;JavaScript;...</td>\n",
       "    </tr>\n",
       "    <tr>\n",
       "      <th>26</th>\n",
       "      <td>114000.0</td>\n",
       "      <td>United States</td>\n",
       "      <td>Bash/Shell/PowerShell;C++;C#;HTML/CSS;JavaScri...</td>\n",
       "    </tr>\n",
       "    <tr>\n",
       "      <th>29</th>\n",
       "      <td>100000.0</td>\n",
       "      <td>United States</td>\n",
       "      <td>Bash/Shell/PowerShell;JavaScript;SQL</td>\n",
       "    </tr>\n",
       "    <tr>\n",
       "      <th>...</th>\n",
       "      <td>...</td>\n",
       "      <td>...</td>\n",
       "      <td>...</td>\n",
       "    </tr>\n",
       "    <tr>\n",
       "      <th>88873</th>\n",
       "      <td>72522.0</td>\n",
       "      <td>Canada</td>\n",
       "      <td>HTML/CSS;JavaScript;PHP;Python;R;SQL</td>\n",
       "    </tr>\n",
       "    <tr>\n",
       "      <th>88874</th>\n",
       "      <td>2000000.0</td>\n",
       "      <td>United States</td>\n",
       "      <td>C++;Python;Scala;SQL</td>\n",
       "    </tr>\n",
       "    <tr>\n",
       "      <th>88876</th>\n",
       "      <td>180000.0</td>\n",
       "      <td>United States</td>\n",
       "      <td>Bash/Shell/PowerShell;C#;HTML/CSS;Java;Python;...</td>\n",
       "    </tr>\n",
       "    <tr>\n",
       "      <th>88877</th>\n",
       "      <td>2000000.0</td>\n",
       "      <td>United States</td>\n",
       "      <td>Bash/Shell/PowerShell;C;Clojure;HTML/CSS;Java;...</td>\n",
       "    </tr>\n",
       "    <tr>\n",
       "      <th>88878</th>\n",
       "      <td>130000.0</td>\n",
       "      <td>United States</td>\n",
       "      <td>HTML/CSS;JavaScript;Scala;TypeScript</td>\n",
       "    </tr>\n",
       "  </tbody>\n",
       "</table>\n",
       "<p>13509 rows × 3 columns</p>\n",
       "</div>"
      ],
      "text/plain": [
       "            ConvertedComp        Country  \\\n",
       "Respondent                                 \n",
       "6                366420.0         Canada   \n",
       "13                90000.0  United States   \n",
       "22               103000.0  United States   \n",
       "26               114000.0  United States   \n",
       "29               100000.0  United States   \n",
       "...                   ...            ...   \n",
       "88873             72522.0         Canada   \n",
       "88874           2000000.0  United States   \n",
       "88876            180000.0  United States   \n",
       "88877           2000000.0  United States   \n",
       "88878            130000.0  United States   \n",
       "\n",
       "                                           LanguageWorkedWith  \n",
       "Respondent                                                     \n",
       "6                                                  Java;R;SQL  \n",
       "13          Bash/Shell/PowerShell;HTML/CSS;JavaScript;PHP;...  \n",
       "22          Bash/Shell/PowerShell;C++;HTML/CSS;JavaScript;...  \n",
       "26          Bash/Shell/PowerShell;C++;C#;HTML/CSS;JavaScri...  \n",
       "29                       Bash/Shell/PowerShell;JavaScript;SQL  \n",
       "...                                                       ...  \n",
       "88873                    HTML/CSS;JavaScript;PHP;Python;R;SQL  \n",
       "88874                                    C++;Python;Scala;SQL  \n",
       "88876       Bash/Shell/PowerShell;C#;HTML/CSS;Java;Python;...  \n",
       "88877       Bash/Shell/PowerShell;C;Clojure;HTML/CSS;Java;...  \n",
       "88878                    HTML/CSS;JavaScript;Scala;TypeScript  \n",
       "\n",
       "[13509 rows x 3 columns]"
      ]
     },
     "execution_count": 40,
     "metadata": {},
     "output_type": "execute_result"
    }
   ],
   "source": [
    "df.loc[high_salary, ['ConvertedComp', 'Country', 'LanguageWorkedWith']]\n",
    "df.loc[filt1, ['ConvertedComp', 'Country', 'LanguageWorkedWith']]"
   ]
  },
  {
   "cell_type": "code",
   "execution_count": 46,
   "metadata": {},
   "outputs": [],
   "source": [
    "lang_filt = df['LanguageWorkedWith'].str.contains('Python', na=False) #filter to a specific language"
   ]
  },
  {
   "cell_type": "code",
   "execution_count": 47,
   "metadata": {
    "collapsed": true
   },
   "outputs": [
    {
     "data": {
      "text/plain": [
       "Respondent\n",
       "1                          HTML/CSS;Java;JavaScript;Python\n",
       "2                                      C++;HTML/CSS;Python\n",
       "4                                      C;C++;C#;Python;SQL\n",
       "5              C++;HTML/CSS;Java;JavaScript;Python;SQL;VBA\n",
       "8        Bash/Shell/PowerShell;C;C++;HTML/CSS;Java;Java...\n",
       "                               ...                        \n",
       "84539    Bash/Shell/PowerShell;C;C++;HTML/CSS;Java;Java...\n",
       "85738      Bash/Shell/PowerShell;C++;Python;Ruby;Other(s):\n",
       "86566      Bash/Shell/PowerShell;HTML/CSS;Python;Other(s):\n",
       "87739             C;C++;HTML/CSS;JavaScript;PHP;Python;SQL\n",
       "88212                           HTML/CSS;JavaScript;Python\n",
       "Name: LanguageWorkedWith, Length: 36443, dtype: object"
      ]
     },
     "execution_count": 47,
     "metadata": {},
     "output_type": "execute_result"
    }
   ],
   "source": [
    "df.loc[lang_filt, 'LanguageWorkedWith']"
   ]
  },
  {
   "cell_type": "code",
   "execution_count": null,
   "metadata": {},
   "outputs": [],
   "source": []
  }
 ],
 "metadata": {
  "kernelspec": {
   "display_name": "Python 3",
   "language": "python",
   "name": "python3"
  },
  "language_info": {
   "codemirror_mode": {
    "name": "ipython",
    "version": 3
   },
   "file_extension": ".py",
   "mimetype": "text/x-python",
   "name": "python",
   "nbconvert_exporter": "python",
   "pygments_lexer": "ipython3",
   "version": "3.8.3"
  }
 },
 "nbformat": 4,
 "nbformat_minor": 4
}
